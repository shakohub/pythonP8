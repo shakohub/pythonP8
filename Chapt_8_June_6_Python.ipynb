{
 "cells": [
  {
   "cell_type": "code",
   "execution_count": 1,
   "metadata": {},
   "outputs": [],
   "source": [
    "def greet_user():\n",
    "    \n",
    "    \"\"\"Display a simple greeting.\"\"\"\n",
    "    print(\"Hello!\")"
   ]
  },
  {
   "cell_type": "code",
   "execution_count": 2,
   "metadata": {},
   "outputs": [
    {
     "name": "stdout",
     "output_type": "stream",
     "text": [
      "Hello!\n"
     ]
    }
   ],
   "source": [
    "greet_user()"
   ]
  },
  {
   "cell_type": "code",
   "execution_count": 5,
   "metadata": {},
   "outputs": [],
   "source": [
    "def greet_user(username):\n",
    "    \"\"\"Display a simple greeting.\"\"\"\n",
    "    print(\"Hello,\" + username.title() + \"!\")\n",
    "    "
   ]
  },
  {
   "cell_type": "code",
   "execution_count": 6,
   "metadata": {},
   "outputs": [
    {
     "name": "stdout",
     "output_type": "stream",
     "text": [
      "Hello,Jessie!\n"
     ]
    }
   ],
   "source": [
    "greet_user('Jessie')"
   ]
  },
  {
   "cell_type": "code",
   "execution_count": 17,
   "metadata": {},
   "outputs": [],
   "source": [
    "def describe_pet(animal_type, pet_name):\n",
    "    \"\"\"Display information about a pet!\"\"\"\n",
    "    print(\"\\nI have a\"+\" \" + animal_type + \".\")\n",
    "    print(\"My \" + animal_type + \" \" + \"'s' name is\" + \" \" + pet_name.title() + \".\")"
   ]
  },
  {
   "cell_type": "code",
   "execution_count": 18,
   "metadata": {},
   "outputs": [
    {
     "name": "stdout",
     "output_type": "stream",
     "text": [
      "\n",
      "I have a bulldog.\n",
      "My bulldog 's' name is  Bobby.\n"
     ]
    }
   ],
   "source": [
    "describe_pet( 'bulldog',' bobby')"
   ]
  },
  {
   "cell_type": "code",
   "execution_count": 20,
   "metadata": {},
   "outputs": [
    {
     "name": "stdout",
     "output_type": "stream",
     "text": [
      "\n",
      "I have a german shepherd.\n",
      "My german shepherd 's' name is Mbua.\n"
     ]
    }
   ],
   "source": [
    "describe_pet('german shepherd','mbua')"
   ]
  },
  {
   "cell_type": "code",
   "execution_count": 21,
   "metadata": {},
   "outputs": [
    {
     "name": "stdout",
     "output_type": "stream",
     "text": [
      "\n",
      "I have a danmatien.\n",
      "My danmatien 's' name is  Mbua Ya Copal.\n"
     ]
    }
   ],
   "source": [
    "describe_pet(pet_name= ' mbua ya copal',animal_type='danmatien')"
   ]
  },
  {
   "cell_type": "code",
   "execution_count": 9,
   "metadata": {},
   "outputs": [],
   "source": [
    "def describe_pet(pet_name,animal_type='dog'):\n",
    "    \"\"\"Display information about the pet\"\"\"\n",
    "    print(\"\\nI have a\" + \" \"+animal_type )\n",
    "    print(\"My\" +\" \"+ animal_type + \"'s name is\"+\" \" +pet_name.title())\n",
    "          "
   ]
  },
  {
   "cell_type": "code",
   "execution_count": 3,
   "metadata": {},
   "outputs": [
    {
     "name": "stdout",
     "output_type": "stream",
     "text": [
      "\n",
      "I have adog\n",
      "Mydog's name isWillie\n"
     ]
    }
   ],
   "source": [
    "describe_pet(pet_name='willie')"
   ]
  },
  {
   "cell_type": "code",
   "execution_count": 25,
   "metadata": {},
   "outputs": [
    {
     "name": "stdout",
     "output_type": "stream",
     "text": [
      "\n",
      "I have adog\n",
      "Mydog's name isWillie\n"
     ]
    }
   ],
   "source": [
    "describe_pet('willie')"
   ]
  },
  {
   "cell_type": "code",
   "execution_count": 10,
   "metadata": {},
   "outputs": [
    {
     "name": "stdout",
     "output_type": "stream",
     "text": [
      "\n",
      "I have a hamster\n",
      "My hamster's name is Harry\n",
      "\n",
      "I have a hamster\n",
      "My hamster's name is Harry\n",
      "\n",
      "I have a hamster\n",
      "My hamster's name is Harry\n"
     ]
    }
   ],
   "source": [
    "describe_pet('harry','hamster')\n",
    "describe_pet(pet_name='harry',animal_type='hamster')\n",
    "describe_pet(animal_type='hamster',pet_name='harry')"
   ]
  },
  {
   "cell_type": "code",
   "execution_count": 11,
   "metadata": {},
   "outputs": [
    {
     "name": "stdout",
     "output_type": "stream",
     "text": [
      "\n",
      "I have a imbwa\n",
      "My imbwa's name is Bull\n"
     ]
    }
   ],
   "source": [
    "describe_pet('bull','imbwa')"
   ]
  },
  {
   "cell_type": "code",
   "execution_count": 15,
   "metadata": {},
   "outputs": [],
   "source": [
    "# create a function that takes in 2 values\n",
    "def get_formatted_name(first_name,last_name):\n",
    "    \"\"\"Return a full name, neatly formatted\"\"\"\n",
    "    full_name= first_name + \" \" + last_name\n",
    "    \n",
    "    return full_name.title()"
   ]
  },
  {
   "cell_type": "code",
   "execution_count": 18,
   "metadata": {},
   "outputs": [
    {
     "name": "stdout",
     "output_type": "stream",
     "text": [
      "Jimi Hendrix\n"
     ]
    }
   ],
   "source": [
    "musician= get_formatted_name('jimi','hendrix')\n",
    "print(musician)"
   ]
  },
  {
   "cell_type": "code",
   "execution_count": 20,
   "metadata": {},
   "outputs": [],
   "source": [
    "def get_formatted_name(first_name,last_name,middle_name):\n",
    "    \"\"\"Return a full name, neatly formatted.\"\"\"\n",
    "    full_name = first_name+ \" \"+ middle_name+\" \"+\" \"+ last_name\n",
    "    return full_name.title()"
   ]
  },
  {
   "cell_type": "code",
   "execution_count": 21,
   "metadata": {},
   "outputs": [
    {
     "name": "stdout",
     "output_type": "stream",
     "text": [
      "Shako Osako  Okito\n"
     ]
    }
   ],
   "source": [
    "student= get_formatted_name('shako','okito','osako')\n",
    "print(student)"
   ]
  },
  {
   "cell_type": "code",
   "execution_count": 22,
   "metadata": {},
   "outputs": [],
   "source": [
    "def get_formatted_name(first_name, last_name, middle_name=''):\n",
    "    \"\"\"Return a full name, neatly formatted\"\"\"\n",
    "    if middle_name:\n",
    "        full_name= first_name+\" \"+ middle_name+\" \" + last_name\n",
    "        \n",
    "    else:\n",
    "        full_name= first_name+\" \"+ last_name\n",
    "        \n",
    "    return full_name.title()    "
   ]
  },
  {
   "cell_type": "code",
   "execution_count": 23,
   "metadata": {},
   "outputs": [
    {
     "name": "stdout",
     "output_type": "stream",
     "text": [
      "Papa Wemba\n"
     ]
    }
   ],
   "source": [
    "musician= get_formatted_name('papa','wemba')\n",
    "print(musician)"
   ]
  },
  {
   "cell_type": "code",
   "execution_count": 24,
   "metadata": {},
   "outputs": [
    {
     "name": "stdout",
     "output_type": "stream",
     "text": [
      "Koffi Olomide Agbepa\n"
     ]
    }
   ],
   "source": [
    "musician= get_formatted_name('koffi','agbepa','olomide')\n",
    "print(musician)"
   ]
  },
  {
   "cell_type": "code",
   "execution_count": 7,
   "metadata": {},
   "outputs": [],
   "source": [
    "def get_formatted_name(first_name,last_name,middle_name=''):\n",
    "   \n",
    "    \"\"\"Return a full name,neatly formatted\"\"\"\n",
    "    \n",
    "    if middle_name:\n",
    "        full_name= first_name+ \" \"+ middle_name+\" \"+ last_name\n",
    "        \n",
    "    else:\n",
    "        full_name= first_name+\" \"+ last_name\n",
    "        \n",
    "    return  full_name.title()    "
   ]
  },
  {
   "cell_type": "code",
   "execution_count": 8,
   "metadata": {},
   "outputs": [
    {
     "name": "stdout",
     "output_type": "stream",
     "text": [
      "Jimi Hendrix\n"
     ]
    }
   ],
   "source": [
    "musician= get_formatted_name('jimi','hendrix')\n",
    "print(musician)"
   ]
  },
  {
   "cell_type": "code",
   "execution_count": 9,
   "metadata": {},
   "outputs": [
    {
     "name": "stdout",
     "output_type": "stream",
     "text": [
      "John Lee Hooker\n"
     ]
    }
   ],
   "source": [
    "musician= get_formatted_name('john','hooker','lee')\n",
    "print(musician)"
   ]
  },
  {
   "cell_type": "code",
   "execution_count": 1,
   "metadata": {},
   "outputs": [],
   "source": [
    "def build_person(first_name,last_name):\n",
    "    \"\"\"Return a dictionnary with information about a person\"\"\"\n",
    "    person={'first': first_name, 'last':last_name}\n",
    "    \n",
    "    return person"
   ]
  },
  {
   "cell_type": "code",
   "execution_count": 2,
   "metadata": {},
   "outputs": [
    {
     "name": "stdout",
     "output_type": "stream",
     "text": [
      "{'first': 'jimi', 'last': 'hendrix'}\n"
     ]
    }
   ],
   "source": [
    "musician=build_person('jimi','hendrix')\n",
    "print(musician)"
   ]
  },
  {
   "cell_type": "code",
   "execution_count": 3,
   "metadata": {},
   "outputs": [],
   "source": [
    "def build_person(first_name,last_name,age=''):\n",
    "    \"\"\"Return a dictionnary with information about a person\"\"\"\n",
    "    person = {'first': first_name,'last':last_name}\n",
    "    \n",
    "    if age:\n",
    "        \n",
    "        person['age']= age\n",
    "        \n",
    "    return person    "
   ]
  },
  {
   "cell_type": "code",
   "execution_count": 4,
   "metadata": {},
   "outputs": [
    {
     "name": "stdout",
     "output_type": "stream",
     "text": [
      "{'first': 'jimi', 'last': 'hendrix'}\n"
     ]
    }
   ],
   "source": [
    "musician=build_person('jimi','hendrix')\n",
    "print(musician)"
   ]
  },
  {
   "cell_type": "code",
   "execution_count": 5,
   "metadata": {},
   "outputs": [
    {
     "name": "stdout",
     "output_type": "stream",
     "text": [
      "{'first': 'jimi', 'last': 'hendrix', 'age': 27}\n"
     ]
    }
   ],
   "source": [
    "musician= build_person('jimi','hendrix', age=27)\n",
    "print(musician)"
   ]
  },
  {
   "cell_type": "code",
   "execution_count": null,
   "metadata": {},
   "outputs": [
    {
     "name": "stdout",
     "output_type": "stream",
     "text": [
      "\n",
      "Please tell me your name:\n",
      "First name: shako\n",
      "Last name: okito\n",
      "\n",
      "Hello, Shako Okito!\n",
      "\n",
      "Please tell me your name:\n",
      "First name: firenze\n",
      "Last name: alonzo\n",
      "\n",
      "Hello, Firenze Alonzo!\n",
      "\n",
      "Please tell me your name:\n",
      "First name: sylvie\n",
      "Last name: abiba\n",
      "\n",
      "Hello, Sylvie Abiba!\n",
      "\n",
      "Please tell me your name:\n",
      "First name: koko\n",
      "Last name: kosi\n",
      "\n",
      "Hello, Koko Kosi!\n",
      "\n",
      "Please tell me your name:\n",
      "First name: q\n",
      "Last name: q\n",
      "\n",
      "Hello, Q Q!\n",
      "\n",
      "Please tell me your name:\n",
      "First name: oik\n",
      "Last name: gy\n",
      "\n",
      "Hello, Oik Gy!\n",
      "\n",
      "Please tell me your name:\n"
     ]
    }
   ],
   "source": [
    "def get_formatted_name(first_name,last_name):\n",
    "    \"\"\"Return a full name, neatly formatted.\"\"\"\n",
    "    full_name = first_name+\" \"+ last_name\n",
    "    return full_name.title()\n",
    "while True:\n",
    "    print(\"\\nPlease tell me your name:\")\n",
    "    f_name=input(\"First name: \")\n",
    "    l_name=input(\"Last name: \")\n",
    "    \n",
    "    formatted_name=get_formatted_name(f_name,l_name)\n",
    "    print(\"\\nHello, \" + formatted_name+ \"!\")"
   ]
  },
  {
   "cell_type": "code",
   "execution_count": 1,
   "metadata": {},
   "outputs": [
    {
     "name": "stdout",
     "output_type": "stream",
     "text": [
      "\n",
      "Please tell me your name:\n",
      "(enter 'q' at any time to quit)\n",
      "First name: shako\n",
      "Last name: okito\n"
     ]
    },
    {
     "ename": "NameError",
     "evalue": "name 'get_formatted_name' is not defined",
     "output_type": "error",
     "traceback": [
      "\u001b[1;31m---------------------------------------------------------------------------\u001b[0m",
      "\u001b[1;31mNameError\u001b[0m                                 Traceback (most recent call last)",
      "\u001b[1;32m<ipython-input-1-5aeb6cc2de5d>\u001b[0m in \u001b[0;36m<module>\u001b[1;34m\u001b[0m\n\u001b[0;32m      9\u001b[0m     \u001b[1;32mif\u001b[0m \u001b[0ml_name\u001b[0m\u001b[1;33m==\u001b[0m\u001b[1;34m'q'\u001b[0m\u001b[1;33m:\u001b[0m\u001b[1;33m\u001b[0m\u001b[1;33m\u001b[0m\u001b[0m\n\u001b[0;32m     10\u001b[0m         \u001b[1;32mbreak\u001b[0m\u001b[1;33m\u001b[0m\u001b[1;33m\u001b[0m\u001b[0m\n\u001b[1;32m---> 11\u001b[1;33m     \u001b[0mformatted_name\u001b[0m\u001b[1;33m=\u001b[0m \u001b[0mget_formatted_name\u001b[0m\u001b[1;33m(\u001b[0m\u001b[0mf_name\u001b[0m\u001b[1;33m,\u001b[0m\u001b[0ml_name\u001b[0m\u001b[1;33m)\u001b[0m\u001b[1;33m\u001b[0m\u001b[1;33m\u001b[0m\u001b[0m\n\u001b[0m\u001b[0;32m     12\u001b[0m     \u001b[0mprint\u001b[0m\u001b[1;33m(\u001b[0m\u001b[1;34m\"\\nHello, \"\u001b[0m\u001b[1;33m+\u001b[0m \u001b[0mformatted_name\u001b[0m\u001b[1;33m+\u001b[0m \u001b[1;34m\"!\"\u001b[0m\u001b[1;33m)\u001b[0m\u001b[1;33m\u001b[0m\u001b[1;33m\u001b[0m\u001b[0m\n",
      "\u001b[1;31mNameError\u001b[0m: name 'get_formatted_name' is not defined"
     ]
    }
   ],
   "source": [
    "while True:\n",
    "    print(\"\\nPlease tell me your name:\")\n",
    "    print(\"(enter 'q' at any time to quit)\")\n",
    "    \n",
    "    f_name = input(\"First name: \")\n",
    "    if f_name=='q':\n",
    "        break\n",
    "    l_name = input(\"Last name: \")\n",
    "    if l_name=='q':\n",
    "        break\n",
    "    formatted_name= get_formatted_name(f_name,l_name) \n",
    "    print(\"\\nHello, \"+ formatted_name+ \"!\")"
   ]
  },
  {
   "cell_type": "code",
   "execution_count": 2,
   "metadata": {},
   "outputs": [],
   "source": [
    "def greet_users(names):\n",
    "    \"\"\"Print a simple greeting to each user in the list.\"\"\"\n",
    "    for name in names:\n",
    "        msg= \"Hello,\"+ name.title()+ \"!\"\n",
    "        print(msg)\n",
    "        "
   ]
  },
  {
   "cell_type": "code",
   "execution_count": 3,
   "metadata": {},
   "outputs": [
    {
     "name": "stdout",
     "output_type": "stream",
     "text": [
      "Hello,Hannah!\n",
      "Hello,Try!\n",
      "Hello,Margot!\n"
     ]
    }
   ],
   "source": [
    "usernames=['hannah','try','margot']\n",
    "greet_users(usernames)"
   ]
  },
  {
   "cell_type": "code",
   "execution_count": 10,
   "metadata": {},
   "outputs": [
    {
     "name": "stdout",
     "output_type": "stream",
     "text": [
      "Printing_models:dodecahedron\n",
      "Printing_models:robot pendant\n",
      "Printing_models:iphone case\n",
      "\n",
      "The following models have been printed:\n",
      "dodecahedron\n",
      "robot pendant\n",
      "iphone case\n"
     ]
    }
   ],
   "source": [
    "unprited_designs=['iphone case','robot pendant','dodecahedron']\n",
    "completed_models=[]\n",
    "\n",
    "    \n",
    "\n",
    "\n",
    "while unprited_designs:\n",
    "    \n",
    "    \n",
    "    current_design= unprited_designs.pop()\n",
    "    \n",
    "    \n",
    "    print(\"Printing_models:\" + current_design)\n",
    "    \n",
    "    \n",
    "    completed_models.append(current_design)\n",
    "    \n",
    "    \n",
    "print(\"\\nThe following models have been printed:\")  \n",
    "\n",
    "    \n",
    "for completed_model in completed_models:\n",
    "    \n",
    "    print(completed_model)\n",
    "    "
   ]
  },
  {
   "cell_type": "code",
   "execution_count": 11,
   "metadata": {},
   "outputs": [],
   "source": [
    "def print_models(unprinted_designs, completed_models):\n",
    "    \n",
    "    while unprinted_designs:\n",
    "        \n",
    "        current_design= unprinted_designs.pop()\n",
    "        \n",
    "        print(\"Printing model:\" + current_design)\n",
    "        completed_models.append(current_design)"
   ]
  },
  {
   "cell_type": "code",
   "execution_count": 12,
   "metadata": {},
   "outputs": [],
   "source": [
    "def show_completed_models(completed_models):\n",
    "    \n",
    "    \"\"\"Show all the models that were printed.\"\"\"\n",
    "    \n",
    "    print(\"\\nThe following models have been printed: \")\n",
    "    \n",
    "    for completed_models in completed_models:\n",
    "        print(completed_model)"
   ]
  },
  {
   "cell_type": "code",
   "execution_count": 13,
   "metadata": {},
   "outputs": [
    {
     "name": "stdout",
     "output_type": "stream",
     "text": [
      "Printing model:dodecahedron\n",
      "Printing model:robot pendant\n",
      "Printing model:iphone case\n",
      "\n",
      "The following models have been printed: \n",
      "iphone case\n",
      "iphone case\n",
      "iphone case\n"
     ]
    }
   ],
   "source": [
    "unprinted_designs=['iphone case','robot pendant','dodecahedron']\n",
    "completed_models=[]\n",
    "print_models(unprinted_designs,completed_models)\n",
    "show_completed_models(completed_models)"
   ]
  },
  {
   "cell_type": "code",
   "execution_count": 14,
   "metadata": {},
   "outputs": [
    {
     "name": "stdout",
     "output_type": "stream",
     "text": [
      "Printing model:dodecahedron\n",
      "Printing model:robot pendant\n",
      "Printing model:iphone case\n",
      "\n",
      "The following models have been printed: \n",
      "iphone case\n",
      "iphone case\n",
      "iphone case\n"
     ]
    }
   ],
   "source": [
    "unprinted_designs=['iphone case','robot pendant','dodecahedron']\n",
    "completed_models=[]\n",
    "print_models(unprinted_designs[:], completed_models)\n",
    "show_completed_models(completed_models)"
   ]
  },
  {
   "cell_type": "code",
   "execution_count": 15,
   "metadata": {},
   "outputs": [
    {
     "name": "stdout",
     "output_type": "stream",
     "text": [
      "['iphone case', 'robot pendant', 'dodecahedron']\n"
     ]
    }
   ],
   "source": [
    "print(unprinted_designs)"
   ]
  },
  {
   "cell_type": "code",
   "execution_count": 5,
   "metadata": {},
   "outputs": [],
   "source": [
    "def print_models(unprinted_designs,completed_models):\n",
    "    \n",
    "    \"\"\"\n",
    "    Simulate printing each design, until none are left.\n",
    "    Move each design to completed_models after printing.\n",
    "    \n",
    "    \"\"\"\n",
    "    while unprinted_designs:\n",
    "        \n",
    "        current_design=unprinted_designs.pop()\n",
    "        \n",
    "        print(\"Printing model: \"+ current_design)\n",
    "        completed_models.append(current_design)"
   ]
  },
  {
   "cell_type": "code",
   "execution_count": 7,
   "metadata": {},
   "outputs": [],
   "source": [
    "def show_completed_models(completed_models):\n",
    "    \"\"\"Show all the models that were printed\"\"\"\n",
    "    \n",
    "    print(\"\\nThe following models have been printed:\")\n",
    "    \n",
    "    for completed_model in completed_models:\n",
    "        print(completed_model)"
   ]
  },
  {
   "cell_type": "code",
   "execution_count": 4,
   "metadata": {},
   "outputs": [
    {
     "name": "stdout",
     "output_type": "stream",
     "text": [
      "Printing model: + current_design\n",
      "Printing model: + current_design\n",
      "Printing model: + current_design\n",
      "\n",
      "The following models have been printed:\n",
      "dodecahedron\n",
      "robot pendant\n",
      "iphone case\n"
     ]
    }
   ],
   "source": [
    "unprinted_designs=['iphone case','robot pendant','dodecahedron']\n",
    "\n",
    "completed_models=[]\n",
    "print_models(unprinted_designs,completed_models)\n",
    "\n",
    "show_completed_models(completed_models)"
   ]
  },
  {
   "cell_type": "code",
   "execution_count": 8,
   "metadata": {},
   "outputs": [
    {
     "name": "stdout",
     "output_type": "stream",
     "text": [
      "Printing model: dodecahedron\n",
      "Printing model: robot pendant\n",
      "Printing model: iphone case\n",
      "\n",
      "The following models have been printed:\n",
      "dodecahedron\n",
      "robot pendant\n",
      "iphone case\n"
     ]
    }
   ],
   "source": [
    "unprinted_designs=['iphone case','robot pendant','dodecahedron']\n",
    "completed_models=[]\n",
    "print_models(unprinted_designs[:],completed_models)\n",
    "show_completed_models(completed_models)"
   ]
  },
  {
   "cell_type": "code",
   "execution_count": 11,
   "metadata": {},
   "outputs": [
    {
     "name": "stdout",
     "output_type": "stream",
     "text": [
      "['iphone case', 'robot pendant', 'dodecahedron']\n"
     ]
    }
   ],
   "source": [
    "print(unprinted_designs)"
   ]
  },
  {
   "cell_type": "code",
   "execution_count": 1,
   "metadata": {},
   "outputs": [],
   "source": [
    "def make_pizza(*toppings):\n",
    "    \n",
    "    \"\"\"Print the list of toppings that have been requested.\"\"\"\n",
    "    print(toppings)"
   ]
  },
  {
   "cell_type": "code",
   "execution_count": 2,
   "metadata": {},
   "outputs": [
    {
     "name": "stdout",
     "output_type": "stream",
     "text": [
      "('pepperoni',)\n"
     ]
    }
   ],
   "source": [
    "make_pizza('pepperoni')"
   ]
  },
  {
   "cell_type": "code",
   "execution_count": 3,
   "metadata": {},
   "outputs": [
    {
     "name": "stdout",
     "output_type": "stream",
     "text": [
      "('mushrooms', 'green peppers', 'extra cheese')\n"
     ]
    }
   ],
   "source": [
    "make_pizza('mushrooms','green peppers','extra cheese')"
   ]
  },
  {
   "cell_type": "code",
   "execution_count": 4,
   "metadata": {},
   "outputs": [],
   "source": [
    "def make_pizza(*toppings):\n",
    "    \"\"\"Summarize the pizza we are about to make.\"\"\"\n",
    "    \n",
    "    print(\"\\nMaking a pizza with the following toppings:\")\n",
    "    \n",
    "    for topping in toppings:\n",
    "        print(\" -              \" + topping)"
   ]
  },
  {
   "cell_type": "code",
   "execution_count": 5,
   "metadata": {},
   "outputs": [
    {
     "name": "stdout",
     "output_type": "stream",
     "text": [
      "\n",
      "Making a pizza with the following toppings:\n",
      " -              pepperoni\n"
     ]
    }
   ],
   "source": [
    "make_pizza('pepperoni')"
   ]
  },
  {
   "cell_type": "code",
   "execution_count": 6,
   "metadata": {},
   "outputs": [
    {
     "name": "stdout",
     "output_type": "stream",
     "text": [
      "\n",
      "Making a pizza with the following toppings:\n",
      " -              mushrooms\n",
      " -              green peppers\n",
      " -              extra cheese\n"
     ]
    }
   ],
   "source": [
    "make_pizza('mushrooms','green peppers','extra cheese')"
   ]
  },
  {
   "cell_type": "code",
   "execution_count": 10,
   "metadata": {},
   "outputs": [],
   "source": [
    "def make_pizza(size,*toppings):\n",
    "    \"\"\"Summarize the pizza we are about to make\"\"\"\n",
    "    print(\"\\nMaking a \"+ str(size)+ \" -inch pizza with the following toppings:\")\n",
    "    \n",
    "    for topping in toppings:\n",
    "        print(\"- \" + topping)"
   ]
  },
  {
   "cell_type": "code",
   "execution_count": 11,
   "metadata": {},
   "outputs": [
    {
     "name": "stdout",
     "output_type": "stream",
     "text": [
      "\n",
      "Making a 16 -inch pizza with the following toppings:\n",
      "- pepperoni\n"
     ]
    }
   ],
   "source": [
    "make_pizza(16,'pepperoni')"
   ]
  },
  {
   "cell_type": "code",
   "execution_count": 3,
   "metadata": {},
   "outputs": [
    {
     "name": "stdout",
     "output_type": "stream",
     "text": [
      "\n",
      "Making a 12 -inch pizza with the following toppings:\n",
      "- mushrooma\n",
      "- green peppers\n",
      "- extra cheese\n"
     ]
    }
   ],
   "source": [
    "make_pizza(12,'mushrooma','green peppers','extra cheese')"
   ]
  },
  {
   "cell_type": "code",
   "execution_count": 4,
   "metadata": {},
   "outputs": [],
   "source": [
    "def build_profile(**user_info):\n",
    "    \"\"\"Build a dictionary containing everything we know about a user.\"\"\"\n",
    "    print(user_info)"
   ]
  },
  {
   "cell_type": "code",
   "execution_count": 5,
   "metadata": {},
   "outputs": [
    {
     "name": "stdout",
     "output_type": "stream",
     "text": [
      "{'first': 'albert', 'last': 'einstein'}\n"
     ]
    }
   ],
   "source": [
    "build_profile(first='albert',last='einstein')"
   ]
  },
  {
   "cell_type": "code",
   "execution_count": 5,
   "metadata": {},
   "outputs": [],
   "source": [
    "def build_profile(first,last,**user_info):\n",
    "    \"\"\"Build a dictionary containing everything we know abour a user.\"\"\"\n",
    "    profile={}\n",
    "    profile['first name']= first\n",
    "    profile['last name']= last\n",
    "    \n",
    "    for key ,value in user_info.items():\n",
    "        profile[key]= value\n",
    "    return profile    "
   ]
  },
  {
   "cell_type": "code",
   "execution_count": 6,
   "metadata": {},
   "outputs": [
    {
     "name": "stdout",
     "output_type": "stream",
     "text": [
      "{'first name': 'albert', 'last name': 'einstein', 'location': 'princeton', 'field': 'physics'}\n"
     ]
    }
   ],
   "source": [
    "user_profile=build_profile('albert','einstein',location='princeton',field='physics')\n",
    "print(user_profile)"
   ]
  },
  {
   "cell_type": "code",
   "execution_count": 12,
   "metadata": {},
   "outputs": [
    {
     "name": "stdout",
     "output_type": "stream",
     "text": [
      "\n",
      "Making a 12 -inch pizza with the following toppings:\n",
      "- cheese\n"
     ]
    }
   ],
   "source": [
    "make_pizza(12,'cheese')"
   ]
  },
  {
   "cell_type": "code",
   "execution_count": 13,
   "metadata": {},
   "outputs": [
    {
     "name": "stdout",
     "output_type": "stream",
     "text": [
      "\n",
      "Making a 21 -inch pizza with the following toppings:\n",
      "- fumbwa\n",
      "- madesu\n",
      "- ndunda\n"
     ]
    }
   ],
   "source": [
    "make_pizza(21,'fumbwa','madesu','ndunda'\n",
    "          )"
   ]
  },
  {
   "cell_type": "code",
   "execution_count": null,
   "metadata": {},
   "outputs": [],
   "source": []
  }
 ],
 "metadata": {
  "kernelspec": {
   "display_name": "Python 3",
   "language": "python",
   "name": "python3"
  },
  "language_info": {
   "codemirror_mode": {
    "name": "ipython",
    "version": 3
   },
   "file_extension": ".py",
   "mimetype": "text/x-python",
   "name": "python",
   "nbconvert_exporter": "python",
   "pygments_lexer": "ipython3",
   "version": "3.7.4"
  }
 },
 "nbformat": 4,
 "nbformat_minor": 2
}
